{
 "cells": [
  {
   "cell_type": "markdown",
   "metadata": {},
   "source": [
    "<a id=\"top\"></a>\n",
    "# LUVex Aperture Generation Notebook\n",
    "\n",
    "This notebook is used to generate hexagonal segmented apertures. \n",
    "\n",
    "\n",
    "## Package imports"
   ]
  },
  {
   "cell_type": "code",
   "execution_count": 1,
   "metadata": {},
   "outputs": [],
   "source": [
    "#%matplotlib qt\n",
    "import os\n",
    "os.chdir('../..')\n",
    "%matplotlib inline\n",
    "from hcipy import *\n",
    "from aplc_optimization.Inputs_Generation.SCDA_Inputs_Generation import make_SCDA_hex_aperture\n",
    "import numpy as np\n",
    "import matplotlib.pyplot as plt\n",
    "from astropy.io import fits\n",
    "import math"
   ]
  },
  {
   "cell_type": "markdown",
   "metadata": {},
   "source": [
    "## Defining functions"
   ]
  },
  {
   "cell_type": "markdown",
   "metadata": {},
   "source": [
    "Aperture generation function catered to the LUVex test apertures:"
   ]
  },
  {
   "cell_type": "code",
   "execution_count": 90,
   "metadata": {},
   "outputs": [],
   "source": [
    "def make_LUVex_test_aperture(normalized=True, with_spiders=False, with_obstruction=False, clipped=True,\n",
    "                           with_segment_gaps=False, gap_padding=0, num_rings=6, segment_transmissions=1,\n",
    "                           return_header=False, return_segments=False, pupil_diameter=7.9445, pupil_inscribed = 6.0023):\n",
    "    num_segments = 3 * num_rings * (num_rings + 1) #including the central segment\n",
    "    actual_segment_gap = 0.006 #m gap size between segments\n",
    "    segment_gap = actual_segment_gap * gap_padding  # padding out the segmentation gaps so they are visible and not sub-pixel\n",
    "    \n",
    "    if not with_segment_gaps:\n",
    "        segment_gap = 0\n",
    "    \n",
    "    actual_pupil_diameter = pupil_diameter\n",
    "    \n",
    "    if clipped and num_rings > 2: \n",
    "        num_segments = num_segments-6  #subtract the 6 ommitted corner segments\n",
    "        actual_segment_flat_diameter = (pupil_inscribed - 2*(num_rings-1)*segment_gap) / (2*(num_rings-1)+1)\n",
    "        pupil_diameter = actual_segment_flat_diameter * (2*(num_rings)+1) + 2*(num_rings)*segment_gap\n",
    "    else:\n",
    "        actual_segment_flat_diameter = (pupil_diameter - 2*num_rings*segment_gap) / (2*num_rings+1)\n",
    "    \n",
    "    segment_flat_diameter = actual_segment_flat_diameter - (segment_gap - actual_segment_gap)\n",
    "\n",
    "    segment_circum_diameter = 2 / np.sqrt(3) * segment_flat_diameter  # segment circumscribed diameter\n",
    "    \n",
    "    aperture_header = {'TELESCOP': 'SCDA', 'D_CIRC': actual_pupil_diameter, 'D_INSC': pupil_inscribed,\n",
    "                        'SEG_F2F_D': actual_segment_flat_diameter, 'SEG_GAP': actual_segment_gap, 'GAP_PAD':gap_padding,\n",
    "                        'NORM': normalized, 'SEG_TRAN': segment_transmissions, \n",
    "                        'NUM_RINGS': num_rings, 'CLIPPED': clipped, 'NUM_SEG': num_segments}\n",
    "\n",
    "    if normalized:\n",
    "        segment_circum_diameter /= pupil_diameter\n",
    "        segment_flat_diameter /= pupil_diameter\n",
    "        segment_gap /= pupil_diameter\n",
    "        pupil_diameter = 1.0\n",
    "\n",
    "    segment_positions = make_hexagonal_grid(segment_flat_diameter + segment_gap, num_rings)\n",
    "\n",
    "    # clipping the \"corner\" segments of the outermost rings\n",
    "    # clipping the corner segments maximizes the telescope geometry to render it as circular as possible\n",
    "    # and maximizes the diameter of the inscribed circle with respect to the overall diameter.\n",
    "    if clipped:\n",
    "        segment_positions = segment_positions.subset(circular_aperture(pupil_diameter * 0.85))\n",
    "\n",
    "    segment = hexagonal_aperture(segment_circum_diameter, np.pi / 2)\n",
    "\n",
    "    segmented_aperture = make_segmented_aperture(segment, segment_positions, segment_transmissions,\n",
    "                                                 return_segments=return_segments)\n",
    "\n",
    "    if return_segments:\n",
    "        segmented_aperture, segments = segmented_aperture\n",
    "\n",
    "    def func(grid):\n",
    "        res = segmented_aperture(grid)\n",
    "\n",
    "        return Field(res, grid)\n",
    "\n",
    "    if return_header:\n",
    "        if return_segments:\n",
    "            return func, aperture_header, segments\n",
    "        else:\n",
    "            return func, aperture_header\n",
    "    elif return_segments:\n",
    "        return func, segments\n",
    "    else:\n",
    "        return\n"
   ]
  },
  {
   "cell_type": "markdown",
   "metadata": {},
   "source": [
    "Function generate a Lyot stop slightly undersized to the inscribed pupil diameter."
   ]
  },
  {
   "cell_type": "code",
   "execution_count": 391,
   "metadata": {},
   "outputs": [],
   "source": [
    "def make_a_lyot_stop(normalized=False, inner_diameter_fraction=0.2, outer_diameter_fraction=0.9, \n",
    "                     return_header=False, pupil_diameter=7.9445, pupil_inscribed = 6.0023):\n",
    "\n",
    "    outer_D = pupil_inscribed * outer_diameter_fraction\n",
    "    inner_D = pupil_inscribed * inner_diameter_fraction\n",
    "\n",
    "    lyot_reference_diameter = pupil_inscribed\n",
    "\n",
    "    ls_header = {'TELESCOP':'LUVOIR A', 'D_CIRC': pupil_diameter, 'D_INSC': pupil_inscribed,\n",
    "                 'LS_ID': inner_diameter_fraction, 'LS_OD': outer_diameter_fraction, \n",
    "                 'LS_REF_D': lyot_reference_diameter, 'NORM': normalized}\n",
    "    \n",
    "\n",
    "    if normalized:\n",
    "        outer_D /= pupil_diameter\n",
    "        inner_D /= pupil_diameter\n",
    "        \n",
    "    outer_diameter = circular_aperture(outer_D)\n",
    "    central_obscuration = circular_aperture(inner_D)\n",
    "\n",
    "    def aper(grid):\n",
    "        result = outer_diameter(grid) - central_obscuration(grid)\n",
    "\n",
    "        return result\n",
    "\n",
    "    if return_header:\n",
    "        return aper, ls_header\n",
    "\n",
    "    return aper"
   ]
  },
  {
   "cell_type": "markdown",
   "metadata": {},
   "source": [
    "## Parameters"
   ]
  },
  {
   "cell_type": "code",
   "execution_count": 392,
   "metadata": {},
   "outputs": [],
   "source": [
    "filepath = 'masks/SCDA/'\n",
    "N        = 1024  #Number of pixels in aperture, lyot stop, apodizer array\n",
    "oversamp = 4    #oversampling factor in evaluate_supersampled [hcipy/field/util.py]. \n",
    "                #If set to 1 returns bw pupil. For gray set to > 1, nominally set to 4 (4 grey levels)\n",
    "gap_padding = 1"
   ]
  },
  {
   "cell_type": "code",
   "execution_count": 393,
   "metadata": {},
   "outputs": [],
   "source": [
    "num_rings = 1 #number of rings of hexagons N around the central segment"
   ]
  },
  {
   "cell_type": "markdown",
   "metadata": {},
   "source": [
    "Circumscribed and inscribed pupil diameters based on the pupil files provided by Rosey. "
   ]
  },
  {
   "cell_type": "code",
   "execution_count": 378,
   "metadata": {},
   "outputs": [],
   "source": [
    "pup_diams = [[7.9445, 6.0023],  # Hex-1\n",
    "             [7.2617, 5.9994],  # Hex-2\n",
    "             [7.7231, 5.9899],  # Hex-3\n",
    "             [7.1522, 5.9937],  # Hex-4\n",
    "             [6.8526, 5.9941]]  # Hex-5\n",
    "\n",
    "#Get the corresponding diameters from the number of rings.\n",
    "pupil_diameter, pupil_diameter_inscribed = pup_diams[num_rings-1] "
   ]
  },
  {
   "cell_type": "code",
   "execution_count": null,
   "metadata": {},
   "outputs": [],
   "source": []
  },
  {
   "cell_type": "markdown",
   "metadata": {},
   "source": [
    "### Aperture parameters\n",
    "Segmented pupil composed of hexagonal segments distributed over `num_rings` rings around the central\n",
    "segment. "
   ]
  },
  {
   "cell_type": "code",
   "execution_count": 394,
   "metadata": {},
   "outputs": [],
   "source": [
    "#oversampling factor, black and white or grey pixels\n",
    "if oversamp == 1:\n",
    "    edge = 'bw'\n",
    "elif oversamp > 1:\n",
    "    edge = 'gy'"
   ]
  },
  {
   "cell_type": "markdown",
   "metadata": {},
   "source": [
    "The 'clipped' flag, allows for the outer corner segments of the pupil to me omitted, to maximize the telescope geometry to render it as circular as possible and maximizing the diameter of the inscribed circle with respect to the overall diameter."
   ]
  },
  {
   "cell_type": "code",
   "execution_count": 395,
   "metadata": {},
   "outputs": [
    {
     "name": "stdout",
     "output_type": "stream",
     "text": [
      "Segmented pupil composed of 7 hexagonal segments distributed over 1 rings around the central segment.\n"
     ]
    }
   ],
   "source": [
    "clipped = False              #whether to omit outer segments to form a more circular aperture\n",
    "\n",
    "num_segments = 3*num_rings*(num_rings+1)+1\n",
    "if clipped:\n",
    "    num_segments = num_segments-6\n",
    "\n",
    "print('Segmented pupil composed of {0} hexagonal segments distributed over {1} rings around the central segment.'.format(num_segments, num_rings))"
   ]
  },
  {
   "cell_type": "markdown",
   "metadata": {},
   "source": [
    "### Lyot Stop parameters"
   ]
  },
  {
   "cell_type": "code",
   "execution_count": 382,
   "metadata": {},
   "outputs": [],
   "source": [
    "lyot_ref_diam            = pupil_diameter_inscribed #diameter used to reference LS id and od against"
   ]
  },
  {
   "cell_type": "markdown",
   "metadata": {},
   "source": [
    "Setting the Lyot stop inner diameter to 0 to remove central obstruction."
   ]
  },
  {
   "cell_type": "code",
   "execution_count": 396,
   "metadata": {},
   "outputs": [],
   "source": [
    "LS_ID = [0]     #lyot stop inner diameter(s), relative to inscribed circle, \n",
    "                #re-normalized against circumscribed pupil in LS gen function\n",
    "    \n",
    "LS_OD = [0.982] #lyot stop outer diameter, relative to inscribed circle, \n",
    "                #re-normalized against circumscribed pupil in LS gen function"
   ]
  },
  {
   "cell_type": "markdown",
   "metadata": {},
   "source": [
    "### Filepath and Filenames"
   ]
  },
  {
   "cell_type": "markdown",
   "metadata": {},
   "source": [
    "### Construct aperture, write to fits"
   ]
  },
  {
   "cell_type": "code",
   "execution_count": 384,
   "metadata": {},
   "outputs": [
    {
     "name": "stdout",
     "output_type": "stream",
     "text": [
      "masks/SCDA/TelAp_LUVex_01-Hex_gy_ovsamp04__N1024.fits\n"
     ]
    }
   ],
   "source": [
    "if clipped:\n",
    "    pup_filename = 'TelAp_LUVex_{0:02d}-Hex_{1:s}_clipped_ovsamp{2:02d}__N{3:04d}.fits'.format(num_rings,edge,oversamp,N)\n",
    "else:\n",
    "    pup_filename = 'TelAp_LUVex_{0:02d}-Hex_{1:s}_ovsamp{2:02d}__N{3:04d}.fits'.format(num_rings,edge,oversamp,N)\n",
    "\n",
    "grid                     = make_pupil_grid(N)\n",
    "HEX_ap, aperture_header  = make_LUVex_test_aperture(normalized=True, clipped = True, num_rings=num_rings, \n",
    "                                                    return_header = True, gap_padding=gap_padding, \n",
    "                                                    with_segment_gaps=True,\n",
    "                                                    pupil_diameter=pupil_diameter, \n",
    "                                                    pupil_inscribed=pupil_diameter_inscribed)\n",
    "pupil                       = evaluate_supersampled(HEX_ap,grid,oversamp)\n",
    "\n",
    "aperture_header['OVERSAMP'] = oversamp\n",
    "aperture_header['EDGE']     = edge\n",
    "aperture_header['D_INSC']   = pupil_diameter_inscribed\n",
    "hdr = fits.Header()\n",
    "hdr.set('TELESCOP', aperture_header['TELESCOP'])\n",
    "hdr.set('D_CIRC', aperture_header['D_CIRC'],'m: circumscribed diameter')\n",
    "hdr.set('D_INSC', aperture_header['D_INSC'],'m: inscribed diameter')\n",
    "hdr.set('SEG_F2F',aperture_header['SEG_F2F_D'],'m: actual segment flat-to-flat diameter')\n",
    "hdr.set('SEG_GAP',aperture_header['SEG_GAP'],'m: actual gap size between segments')\n",
    "hdr.set('NORM',aperture_header['NORM'],'normalization keyword, OD scaled to 1 by Dcirc')\n",
    "hdr.set('NUM_RINGS',aperture_header['NUM_RINGS'], 'number of rings of hexagons')\n",
    "hdr.set('SEG_TRAN',aperture_header['SEG_TRAN'],'transmission for each of the segments')\n",
    "#hdr.set('NUM_SEG',aperture_header['NUM_SEG'],'number of hexagonal segments')\n",
    "hdr.set('EDGE',aperture_header['EDGE'],'black and white, or grey pixels')\n",
    "hdr.set('OVERSAMP',aperture_header['OVERSAMP'],'oversampling factor, # grey levels')\n",
    "\n",
    "fits.writeto(filepath+pup_filename, pupil.shaped, hdr,overwrite=True)\n",
    "print(filepath+pup_filename)\n"
   ]
  },
  {
   "cell_type": "markdown",
   "metadata": {},
   "source": [
    "## "
   ]
  },
  {
   "cell_type": "markdown",
   "metadata": {},
   "source": [
    "### Construct lyot stop(s), write to fits"
   ]
  },
  {
   "cell_type": "markdown",
   "metadata": {},
   "source": [
    "Using knowledge of inscribed circle diameter, we can calculate the pupil diameter prior to corner segment clipping that is needed for the Lyot stop generation."
   ]
  },
  {
   "cell_type": "code",
   "execution_count": 385,
   "metadata": {},
   "outputs": [],
   "source": [
    "if clipped and num_rings > 2:\n",
    "    actual_segment_gap = 0.006\n",
    "    segment_gap = actual_segment_gap * gap_padding \n",
    "    actual_segment_flat_diameter = (pupil_diameter_inscribed - 2*(num_rings-1)*segment_gap) / (2*(num_rings-1)+1)\n",
    "    pupil_diameter = actual_segment_flat_diameter * (2*(num_rings)+1) + 2*(num_rings)*segment_gap\n",
    "    "
   ]
  },
  {
   "cell_type": "code",
   "execution_count": 386,
   "metadata": {
    "scrolled": false
   },
   "outputs": [
    {
     "name": "stdout",
     "output_type": "stream",
     "text": [
      "masks/SCDA/LS_LUVex_01-Hex_ID0000_OD0982_no_struts_gy_ovsamp4_N1024.fits\n"
     ]
    }
   ],
   "source": [
    "for ls_id in LS_ID:\n",
    "    for ls_od in LS_OD:\n",
    "        \n",
    "        strut_key = 'no_struts'\n",
    "        ls_filename  = 'LS_LUVex_{0:02d}-Hex_ID{1:04d}_OD{2:04d}_{3:s}_{4:s}_ovsamp{5:d}_N{6:04d}.fits'.format(num_rings, int(ls_id*1000), \\\n",
    "                                                                                                int(ls_od*1000), \\\n",
    "                                                                                                strut_key, edge, \\\n",
    "                                                                                                oversamp, N)\n",
    "\n",
    "        LUVOIR_ls,ls_header = make_a_lyot_stop(normalized=True, inner_diameter_fraction=ls_id, \n",
    "                                               outer_diameter_fraction=ls_od, return_header=True, \n",
    "                                               pupil_diameter=pupil_diameter, pupil_inscribed=pupil_diameter_inscribed)\n",
    "        lyot_stop = evaluate_supersampled(LUVOIR_ls, grid, oversamp)\n",
    "    \n",
    "        hdr = fits.Header()\n",
    "        ls_header['OVERSAMP'] = oversamp\n",
    "        ls_header['EDGE']     = edge\n",
    "        ls_header['D_INSC']   = pupil_diameter_inscribed\n",
    "    \n",
    "        hdr = fits.Header()\n",
    "        hdr.set('TELESCOP', ls_header['TELESCOP'])\n",
    "        hdr.set('D_CIRC', ls_header['D_CIRC'],'m: circumscribed diameter')\n",
    "        hdr.set('D_INSC', ls_header['D_INSC'],'m: inscribed diameter')\n",
    "        hdr.set('LS_REF_D',ls_header['LS_REF_D'],'m: used to reference given LS id and od')\n",
    "    \n",
    "        hdr.set('LS_ID', ls_header['LS_ID'], 'LS inner d, fraction of LS_REF_D')\n",
    "        hdr.set('LS_OD', ls_header['LS_OD'], 'LS outer d, fraction of LS_REF_D')\n",
    "    \n",
    "        hdr.set('NORM',ls_header['NORM'],'normalization keyword, OD scaled to 1 by Dcirc')\n",
    "        hdr.set('EDGE',ls_header['EDGE'],'black and white, or grey pixels')\n",
    "        hdr.set('OVERSAMP',ls_header['OVERSAMP'],'oversampling factor, # grey levels')\n",
    "    \n",
    "        fits.writeto(filepath+ls_filename, lyot_stop.shaped, hdr, overwrite=True)\n",
    "    \n",
    "print(filepath+ls_filename)\n"
   ]
  },
  {
   "cell_type": "markdown",
   "metadata": {},
   "source": [
    "### Plot aperture and lyot stop"
   ]
  },
  {
   "cell_type": "code",
   "execution_count": null,
   "metadata": {},
   "outputs": [],
   "source": []
  },
  {
   "cell_type": "code",
   "execution_count": 398,
   "metadata": {
    "scrolled": true
   },
   "outputs": [
    {
     "data": {
      "image/png": "[encoded data removed]",
      "text/plain": [
       "<Figure size 432x288 with 1 Axes>"
      ]
     },
     "metadata": {
      "needs_background": "light"
     },
     "output_type": "display_data"
    }
   ],
   "source": [
    "plt.figure()\n",
    "plt.title('LUVex Test aperture')\n",
    "imshow_field(pupil)\n",
    "plt.show()"
   ]
  },
  {
   "cell_type": "code",
   "execution_count": 399,
   "metadata": {},
   "outputs": [
    {
     "data": {
      "image/png": "[encoded data removed]",
      "text/plain": [
       "<Figure size 432x288 with 1 Axes>"
      ]
     },
     "metadata": {
      "needs_background": "light"
     },
     "output_type": "display_data"
    }
   ],
   "source": [
    "plt.figure()\n",
    "plt.title('LUVex Test LS')\n",
    "imshow_field(lyot_stop)\n",
    "plt.show()"
   ]
  },
  {
   "cell_type": "code",
   "execution_count": 400,
   "metadata": {},
   "outputs": [
    {
     "data": {
      "image/png": "[encoded data removed]",
      "text/plain": [
       "<Figure size 432x288 with 2 Axes>"
      ]
     },
     "metadata": {
      "needs_background": "light"
     },
     "output_type": "display_data"
    }
   ],
   "source": [
    "plt.figure()\n",
    "plt.title('LUVex Test pupil - LS')\n",
    "imshow_field(pupil-lyot_stop)\n",
    "plt.colorbar()\n",
    "plt.show()"
   ]
  },
  {
   "cell_type": "markdown",
   "metadata": {},
   "source": [
    "[Top of page](#top)"
   ]
  }
 ],
 "metadata": {
  "kernelspec": {
   "display_name": "Python 3",
   "language": "python",
   "name": "python3"
  },
  "language_info": {
   "codemirror_mode": {
    "name": "ipython",
    "version": 3
   },
   "file_extension": ".py",
   "mimetype": "text/x-python",
   "name": "python",
   "nbconvert_exporter": "python",
   "pygments_lexer": "ipython3",
   "version": "3.8.10"
  }
 },
 "nbformat": 4,
 "nbformat_minor": 2
}
