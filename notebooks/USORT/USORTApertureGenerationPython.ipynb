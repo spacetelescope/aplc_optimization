{
 "cells": [
  {
   "cell_type": "markdown",
   "metadata": {},
   "source": [
    "<a id=\"top\"></a>\n",
    "# USORT Aperture Generation Notebook\n",
    "\n",
    "This notebook is used to generate the USORT off-axis and on-axis hexagonal segmented apertures.  \n",
    "\n",
    "\n",
    "## Package imports"
   ]
  },
  {
   "cell_type": "code",
   "execution_count": null,
   "metadata": {},
   "outputs": [],
   "source": [
    "#%matplotlib qt\n",
    "import os\n",
    "os.chdir('../..')\n",
    "%matplotlib inline\n",
    "import hcipy\n",
    "import numpy as np\n",
    "import matplotlib.pyplot as plt\n",
    "from astropy import wcs\n",
    "from astropy.io import fits\n",
    "import inspect"
   ]
  },
  {
   "cell_type": "markdown",
   "metadata": {},
   "source": [
    "### Convinence functions"
   ]
  },
  {
   "cell_type": "code",
   "execution_count": 2,
   "metadata": {},
   "outputs": [],
   "source": [
    "def _unit_vec(angle):\n",
    "    '''Convenience function to create unit vector at a certain angle.\n",
    "\n",
    "    Parameters\n",
    "    ----------\n",
    "    angle : float\n",
    "        The angle in radians for the unit vector. A value of zero lays\n",
    "        along the positive x-axis.\n",
    "\n",
    "    Returns\n",
    "    -------\n",
    "    ndarray\n",
    "        The unit vector.\n",
    "    '''\n",
    "    a = np.cos(angle)\n",
    "    b = np.sin(angle)\n",
    "\n",
    "    return np.array([a, b])"
   ]
  },
  {
   "cell_type": "markdown",
   "metadata": {},
   "source": [
    "## Defining Aperture/LS generation functions"
   ]
  },
  {
   "cell_type": "markdown",
   "metadata": {},
   "source": [
    "Aperture generation function for the USORT apertures."
   ]
  },
  {
   "cell_type": "code",
   "execution_count": 3,
   "metadata": {},
   "outputs": [],
   "source": [
    "def make_usort_pupil_offaxis(normalized=False, \n",
    "                             pupil_diameter=7.87,\n",
    "                             num_rings=2,\n",
    "                             gap_size=8e-3,\n",
    "                             segment_point_to_point=1800e-3):\n",
    "    '''Make the off-axis USORT pupil.\n",
    "\n",
    "    This pupil is based on priv. comm. with Lee Feinberg (Jul 18, 2023).\n",
    "\n",
    "    .. note::\n",
    "        This pupil is parametrized, so you can modify parameters to see\n",
    "        the influence of your coronagraph as function of gap size and\n",
    "        other parameters.\n",
    "\n",
    "    Parameters\n",
    "    ----------\n",
    "    normalized : boolean\n",
    "        If this is True, the pupil diameter will be scaled to 1.\n",
    "    pupil_diameter : scalar\n",
    "        The circumscribed pupil diameter.\n",
    "    num_rings : int, optional\n",
    "        The number of rings of hexagonal segments. The default is 2.\n",
    "    gap_size : float, optional\n",
    "        The gap size between the segments in meters. The default is 8e-3 meter.\n",
    "    segment_point_to_point : float, optional\n",
    "        The point-to-point size of each of the hexagonal segments in meters.\n",
    "        The default is 1.8 meters.\n",
    "\n",
    "    Returns\n",
    "    -------\n",
    "    hcipy.Field generator\n",
    "        A function that takes an hcipy.Grid and evaluates the pupil on this grid.\n",
    "    '''\n",
    "    \n",
    "    segment_flat_to_flat = segment_point_to_point * np.sqrt(3) / 2\n",
    "    \n",
    "    if normalized:\n",
    "        segment_point_to_point /= pupil_diameter\n",
    "        segment_flat_to_flat /= pupil_diameter\n",
    "        gap_size /= pupil_diameter\n",
    "        pupil_diameter = 1.0\n",
    "\n",
    "    aperture = hcipy.make_hexagonal_segmented_aperture(num_rings, segment_flat_to_flat, gap_size)\n",
    "\n",
    "    return aperture\n",
    "\n",
    "\n",
    "def make_usort_pupil_onaxis(normalized=False, \n",
    "                            pupil_diameter=7.87,\n",
    "                            num_rings=2,\n",
    "                            gap_size=8e-3,\n",
    "                            segment_point_to_point=1800e-3,\n",
    "                            obscuration_diameter=787.1e-3,\n",
    "                            bottom_struts_width=100.7e-3,\n",
    "                            bottom_struts_connection_width=151.9e-3,\n",
    "                            bottom_struts_connection_length=589.7e-3,\n",
    "                            bottom_struts_angle=60,\n",
    "                            top_strut_width=101.6e-3,\n",
    "                            top_strut_connection_width=194.8e-3,\n",
    "                            top_strut_connection_length=505.3e-3):\n",
    "    '''Make the on-axis USORT pupil.\n",
    "\n",
    "    This pupil is based on priv. comm. with Lee Feinberg (Jul 18, 2023).\n",
    "\n",
    "    .. note::\n",
    "        This pupil is parametrized, so you can modify parameters to see\n",
    "        the influence of your coronagraph as function of gap size, strut\n",
    "        widths and other parameters.\n",
    "\n",
    "    .. warning::\n",
    "        This pupil is a slightly simplified version of the actual USORT pupil,\n",
    "        missing the joint in the top support strut and a small overextension\n",
    "        on the top strut at the bottom of the central obscuration. This pupil\n",
    "        is for experimentation only and is not the final USORT pupil.\n",
    "\n",
    "    Parameters\n",
    "    ----------\n",
    "    normalized : boolean\n",
    "        If this is True, the pupil diameter will be scaled to 1.\n",
    "    pupil_diameter : scalar\n",
    "        The circumscribed pupil diameter.\n",
    "    num_rings : int, optional\n",
    "        The number of rings of hexagonal segments. The default is 2.\n",
    "    gap_size : float, optional\n",
    "        The gap size between the segments in meters. The default is 8e-3 meter.\n",
    "    segment_point_to_point : float, optional\n",
    "        The point-to-point size of each of the hexagonal segments in meters.\n",
    "        The default is 1.8 meters.\n",
    "    obscuration_diameter : float, optional\n",
    "        The diameter of the central obscuration in meters. The default is\n",
    "        787.1e-3 meter.\n",
    "    bottom_struts_width : float, optional\n",
    "        The width of the bottom struts in meters. The default is 100.7e-3\n",
    "        meter.\n",
    "    bottom_struts_connection_width : float, optional\n",
    "        The width of the connection of the bottom struts to the central obscuration\n",
    "        in meters. The default is 151.9e-3 meter.\n",
    "    bottom_struts_connection_length : float, optional\n",
    "        The length of the connection of the bottom struts to the origin, in meters.\n",
    "        The default is 589.7e-3 meters.\n",
    "    bottom_struts_angle : float, optional\n",
    "        The angle between the bottom struts in degrees. The default is 60 degrees.\n",
    "    top_strut_width : float, optional\n",
    "        The width of the bottom struts in meters. The default is 101.6e-3\n",
    "        meter.\n",
    "    top_strut_connection_width : float, optional\n",
    "        The width of the connection of the bottom struts to the central obscuration\n",
    "        in meters. The default is 194.8e-3 meter.\n",
    "    top_strut_connection_length : float, optional\n",
    "        The length of the connection of the bottom struts to the origin, in meters.\n",
    "        The default is 505.3e-3 meters.\n",
    "\n",
    "    Returns\n",
    "    -------\n",
    "    hcipy.Field generator\n",
    "        A function that takes an hcipy.Grid and evaluates the pupil on this grid.\n",
    "    '''\n",
    "    \n",
    "    offaxis_pupil = make_usort_pupil_offaxis(normalized, pupil_diameter, num_rings, gap_size, segment_point_to_point)\n",
    "    \n",
    "    if normalized: \n",
    "        obscuration_diameter /= pupil_diameter\n",
    "        bottom_struts_width /= pupil_diameter\n",
    "        bottom_struts_connection_width /= pupil_diameter\n",
    "        bottom_struts_connection_length /= pupil_diameter\n",
    "        top_strut_width /= pupil_diameter\n",
    "        top_strut_connection_width /= pupil_diameter\n",
    "        top_strut_connection_length /= pupil_diameter\n",
    "        pupil_diameter = 1.0\n",
    "\n",
    "    obscuration = hcipy.make_circular_aperture(obscuration_diameter)\n",
    "\n",
    "    bottom_strut_left_angle = -90 + bottom_struts_angle / 2\n",
    "    bottom_strut_right_angle = -90 - bottom_struts_angle / 2\n",
    "\n",
    "    bottom_strut_left = hcipy.make_spider_infinite((0, 0), bottom_strut_left_angle, bottom_struts_width)\n",
    "    bottom_strut_right = hcipy.make_spider_infinite((0, 0), bottom_strut_right_angle, bottom_struts_width)\n",
    "\n",
    "    bottom_strut_connection_left_point = _unit_vec(np.radians(bottom_strut_left_angle)) * bottom_struts_connection_length\n",
    "    bottom_strut_connection_left = hcipy.make_spider((0, 0), bottom_strut_connection_left_point, bottom_struts_connection_width)\n",
    "\n",
    "    bottom_strut_connection_right_point = _unit_vec(np.radians(bottom_strut_right_angle)) * bottom_struts_connection_length\n",
    "    bottom_strut_connection_right = hcipy.make_spider((0, 0), bottom_strut_connection_right_point, bottom_struts_connection_width)\n",
    "\n",
    "    top_strut = hcipy.make_spider_infinite((0, 0), 90, top_strut_width)\n",
    "\n",
    "    top_strut_connection = hcipy.make_spider((0, 0), (0, top_strut_connection_length), top_strut_connection_width)\n",
    "\n",
    "    def aperture(grid):\n",
    "        # Combine all parts onto the offaxis pupil.\n",
    "        ap = offaxis_pupil(grid)\n",
    "\n",
    "        ap *= 1 - obscuration(grid)\n",
    "\n",
    "        ap *= bottom_strut_left(grid)\n",
    "        ap *= bottom_strut_connection_left(grid)\n",
    "\n",
    "        ap *= bottom_strut_right(grid)\n",
    "        ap *= bottom_strut_connection_right(grid)\n",
    "\n",
    "        ap *= top_strut(grid)\n",
    "        ap *= top_strut_connection(grid)\n",
    "\n",
    "        return ap\n",
    "\n",
    "    return aperture\n",
    "\n",
    "\n",
    "def make_usort_pupil(num_pix, extent=8, normalized=False, offaxis=True, supersampling=16, **kwargs):\n",
    "    '''Make a USORT pupil with a specified sampling.\n",
    "\n",
    "    Parameters\n",
    "    ----------\n",
    "    num_pix : int\n",
    "        The number of pixels across in the evaluated pupil. Typical values are 256, 512 or 1024.\n",
    "    normalized : boolean\n",
    "        If this is True, the pupil diameter will be scaled to 1.\n",
    "    extent : float\n",
    "        The spatial extent of the sampling in meters. The final pixel size will be `extent`\n",
    "        divided by `num_pix`.\n",
    "    offaxis : bool, optional\n",
    "        Whether to use the off-axis or on-axis variant of the USORT pupil. By default,\n",
    "        the off-axis variant is used.\n",
    "    supersampling : int, optional\n",
    "        The number of pixels by which to supersample the pupil. With the default of 16,\n",
    "        the pupil will be evaluated at a 16x higher resolution, then downsampled to the\n",
    "        requested sampling.\n",
    "    **kwargs : dict\n",
    "        Any keyword arguments are passed to the underlying pupil implementation. This is\n",
    "        either :func:`make_usort_pupil_offaxis` or :func:`make_usort_pupil_onaxis`,\n",
    "        depending on the value of `offaxis`.\n",
    "\n",
    "    Returns\n",
    "    -------\n",
    "    ndarray\n",
    "        The evaluated USORT pupil.\n",
    "    '''\n",
    "    if offaxis:\n",
    "        aperture = make_usort_pupil_offaxis(normalized, **kwargs)\n",
    "    else:\n",
    "        aperture = make_usort_pupil_onaxis(normalized, **kwargs)\n",
    "        \n",
    "    if normalized:\n",
    "        extent = 1\n",
    "\n",
    "    pupil_grid = hcipy.make_pupil_grid(num_pix, extent)    \n",
    "    aperture = hcipy.evaluate_supersampled(aperture, pupil_grid, supersampling)\n",
    "\n",
    "    return aperture"
   ]
  },
  {
   "cell_type": "markdown",
   "metadata": {},
   "source": [
    "Function to generate the USORT hexagonal and circular Lyot stop designs."
   ]
  },
  {
   "cell_type": "code",
   "execution_count": 4,
   "metadata": {},
   "outputs": [],
   "source": [
    "def make_usort_lyot_stop_circ(normalized=False,\n",
    "                              pupil_diameter=7.87, \n",
    "                              pupil_inscribed = 6.513,\n",
    "                              inner_diameter_fraction=0.2, \n",
    "                              outer_diameter_fraction=0.9):\n",
    "    '''Make a Lyot stop for the USORT APLC coronagraph.\n",
    "\n",
    "    Parameters\n",
    "    ----------\n",
    "    normalized : boolean\n",
    "        If this is True, the pupil diameter will be scaled to 1.\n",
    "    pupil_diameter : scalar\n",
    "        The circumscribed pupil diameter.\n",
    "    pupil_inscribed : scalar\n",
    "        The inscribed pupil diameter.\n",
    "    inner_diameter_fraction : scalar\n",
    "        The fractional size of the lyot stop inner diameter(s) as a fraction of the inscribed circle diameter.\n",
    "    outer_diameter_fraction : scalar\n",
    "        The fractional size of the lyot stop outer diameter(s) as a fraction of the inscribed circle diameter.\n",
    "    \n",
    "    Returns\n",
    "    -------\n",
    "    lyot_stop : Field generator\n",
    "        A field generator for the Lyot stop.\n",
    "    '''\n",
    "    outer_D = pupil_inscribed * outer_diameter_fraction\n",
    "    inner_D = pupil_inscribed * inner_diameter_fraction\n",
    "    \n",
    "    if normalized:\n",
    "        outer_D /= pupil_diameter\n",
    "        inner_D /= pupil_diameter\n",
    "        pupil_diameter = 1.0\n",
    "        \n",
    "    outer_diameter = hcipy.make_circular_aperture(outer_D)\n",
    "    central_obscuration = hcipy.make_circular_aperture(inner_D)\n",
    "\n",
    "    def ls(grid):\n",
    "        result = outer_diameter(grid) - central_obscuration(grid)\n",
    "\n",
    "        return result\n",
    "\n",
    "    return ls\n",
    "\n",
    "\n",
    "def make_usort_lyot_stop_hex(normalized=False,\n",
    "                             pupil_diameter= 7.87, \n",
    "                             pupil_inscribed = 6.513,\n",
    "                             inner_diameter_fraction=0.2, \n",
    "                             outer_diameter_fraction=0.9):\n",
    "    '''Make a Lyot stop for the USORT APLC coronagraph.\n",
    "\n",
    "    Parameters\n",
    "    ----------\n",
    "    normalized : boolean\n",
    "        If this is True, the pupil diameter will be scaled to 1.\n",
    "    pupil_diameter : scalar\n",
    "        The circumscribed pupil diameter.\n",
    "    pupil_inscribed : scalar\n",
    "        The inscribed pupil diameter.\n",
    "    inner_diameter_fraction : scalar\n",
    "        The fractional size of the lyot stop inner diameter(s) as a fraction of the inscribed circle diameter.\n",
    "    outer_diameter_fraction : scalar\n",
    "        The fractional size of the lyot stop outer diameter(s) as a fraction of the inscribed circle diameter.\n",
    "    \n",
    "    Returns\n",
    "    -------\n",
    "    lyot_stop : Field generator\n",
    "        A field generator for the Lyot stop.\n",
    "    '''\n",
    "    outer_D = pupil_inscribed * outer_diameter_fraction\n",
    "    inner_D = pupil_inscribed * inner_diameter_fraction\n",
    "            \n",
    "    hex_circumdiameter = np.sqrt(2*np.pi / (3 * np.sqrt(3))) * outer_D\n",
    "    \n",
    "    if normalized:\n",
    "        outer_D /= pupil_diameter\n",
    "        inner_D /= pupil_diameter\n",
    "        hex_circumdiameter /= pupil_diameter\n",
    "        pupil_diameter = 1.0\n",
    "        \n",
    "    outer_diameter = hcipy.make_hexagonal_aperture(hex_circumdiameter)\n",
    "    central_obscuration = hcipy.make_hexagonal_aperture(inner_D)\n",
    "\n",
    "    def ls(grid):\n",
    "        result = outer_diameter(grid) - central_obscuration(grid)\n",
    "\n",
    "        return result\n",
    "\n",
    "    return ls\n",
    "\n",
    "\n",
    "def make_usort_lyot_stop(num_pix, extent=8, normalized=False, circular=True, supersampling=16, **kwargs):\n",
    "    '''Make a USORT pupil with a specified sampling.\n",
    "\n",
    "    Parameters\n",
    "    ----------\n",
    "    normalized : boolean\n",
    "        If this is True, the pupil diameter will be scaled to 1.\n",
    "    num_pix : int\n",
    "        The number of pixels across in the evaluated pupil. Typical values are 256, 512 or 1024.\n",
    "    extent : float\n",
    "        The spatial extent of the sampling in meters. The final pixel size will be `extent`\n",
    "        divided by `num_pix`.\n",
    "    circular : bool, optional\n",
    "        Whether to use the circular or hexagonal variant of the USORT Lyot stop. By default,\n",
    "        the circular variant is used.\n",
    "    supersampling : int, optional\n",
    "        The number of pixels by which to supersample the pupil. With the default of 16,\n",
    "        the pupil will be evaluated at a 16x higher resolution, then downsampled to the\n",
    "        requested sampling.\n",
    "    **kwargs : dict\n",
    "        Any keyword arguments are passed to the underlying pupil implementation. This is\n",
    "        either :func:`make_usort_lyot_stop_circ` or :func:`make_usort_lyot_stop_hex`,\n",
    "        depending on the value of `circular`.\n",
    "\n",
    "    Returns\n",
    "    -------\n",
    "    ndarray\n",
    "        The evaluated USORT pupil.\n",
    "    '''\n",
    "    if circular:\n",
    "        lyot_stop = make_usort_lyot_stop_circ(normalized, inner_diameter_fraction=ls_id, outer_diameter_fraction=ls_od, **kwargs)\n",
    "    else:\n",
    "        lyot_stop = make_usort_lyot_stop_hex(normalized, inner_diameter_fraction=ls_id, outer_diameter_fraction=ls_od,**kwargs)\n",
    "\n",
    "    if normalized:\n",
    "        extent = 1.0\n",
    "    \n",
    "    pupil_grid = hcipy.make_pupil_grid(num_pix, extent)\n",
    "    lyot_stop = hcipy.evaluate_supersampled(lyot_stop, pupil_grid, supersampling)\n",
    "\n",
    "    return lyot_stop"
   ]
  },
  {
   "cell_type": "markdown",
   "metadata": {},
   "source": [
    "# Setting Parameters\n",
    "<a id='params'></a>"
   ]
  },
  {
   "cell_type": "code",
   "execution_count": 5,
   "metadata": {},
   "outputs": [],
   "source": [
    "filepath = 'masks/USORT/'\n",
    "N        = 128  # Number of pixels in aperture, lyot stop, apodizer array\n",
    "oversamp = 16   # Oversampling factor in evaluate_supersampled [hcipy/field/util.py]. \n",
    "                # If set to 1 returns bw pupil. For gray set to > 1, nominally set to 4 (4 grey levels)\n",
    "gap_padding = 1 # Gap padding factor"
   ]
  },
  {
   "cell_type": "code",
   "execution_count": 6,
   "metadata": {
    "tags": []
   },
   "outputs": [],
   "source": [
    "# oversampling factor, black and white or grey pixels:\n",
    "if oversamp == 1:\n",
    "    edge = 'bw'\n",
    "elif oversamp > 1:\n",
    "    edge = 'gy'"
   ]
  },
  {
   "cell_type": "markdown",
   "metadata": {},
   "source": [
    "Circumscribed and inscribed pupil diameters as provided by E. Por. "
   ]
  },
  {
   "cell_type": "code",
   "execution_count": 7,
   "metadata": {},
   "outputs": [],
   "source": [
    "pupil_diameter = 7.87  # meters\n",
    "pupil_inscribed = 6.513  # meters"
   ]
  },
  {
   "cell_type": "markdown",
   "metadata": {},
   "source": [
    "The spacial extent of the sampling. The final pixel size will be `extent` divided by `N`."
   ]
  },
  {
   "cell_type": "code",
   "execution_count": 8,
   "metadata": {
    "tags": []
   },
   "outputs": [],
   "source": [
    "extent = pupil_diameter # meters"
   ]
  },
  {
   "cell_type": "markdown",
   "metadata": {},
   "source": [
    "## Aperture parameters\n",
    "Segmented pupil composed of hexagonal segments distributed over `num_rings` rings around the central\n",
    "segment. "
   ]
  },
  {
   "cell_type": "code",
   "execution_count": 9,
   "metadata": {},
   "outputs": [],
   "source": [
    "num_rings = 2                     # Number of rings of hexagons N around the central segment\n",
    "gap_size = 8e-3                   # Gap size between the segments in meters. \n",
    "segment_point_to_point = 1800e-3  # Point-to-point size of each of the hexagonal segments in meters."
   ]
  },
  {
   "cell_type": "markdown",
   "metadata": {},
   "source": [
    "For the on-axis design:"
   ]
  },
  {
   "cell_type": "code",
   "execution_count": 10,
   "metadata": {
    "tags": []
   },
   "outputs": [],
   "source": [
    "obscuration_diameter=787.1e-3             # Diameter of the central obscuration in meters. \n",
    "bottom_struts_width=100.7e-3              # Width of the bottom struts in meters.\n",
    "bottom_struts_connection_width=151.9e-3   # Width of the connection of the bottom struts to the central obscuration, in meters.\n",
    "bottom_struts_connection_length=589.7e-3  # Length of the connection of the bottom struts to the origin, in meters.\n",
    "bottom_struts_angle=60                    # Angle between the bottom struts in degrees.\n",
    "top_strut_width=101.6e-3                  # Width of the bottom struts in meters.\n",
    "top_strut_connection_width=194.8e-3       # Width of the connection of the bottom struts to the central obscuration, in meters.\n",
    "top_strut_connection_length=505.3e-3      # Length of the connection of the bottom struts to the origin, in meters."
   ]
  },
  {
   "cell_type": "markdown",
   "metadata": {},
   "source": [
    "## Lyot Stop parameters"
   ]
  },
  {
   "cell_type": "markdown",
   "metadata": {},
   "source": [
    "The Lyot stop inner diameter is set to 0 to remove central obstruction."
   ]
  },
  {
   "cell_type": "code",
   "execution_count": 11,
   "metadata": {},
   "outputs": [],
   "source": [
    "ls_id = 0.0   # Lyot stop inner diameter, relative to inscribed circle, re-normalized against circumscribed pupil in LS gen function.\n",
    "ls_od = 0.99  # Lyot stop outer diameter, relative to inscribed circle, re-normalized against circumscribed pupil in LS gen function."
   ]
  },
  {
   "cell_type": "markdown",
   "metadata": {
    "tags": []
   },
   "source": [
    "The circumdiameter of the hexagonal lyot stop, calcualted from the outer diameter of the circular lyot stop, such that the two Lyot stops have equivalent area:"
   ]
  },
  {
   "cell_type": "code",
   "execution_count": 12,
   "metadata": {},
   "outputs": [],
   "source": [
    "circ_outer_D = pupil_inscribed * ls_id                            # Outer diameter of circular lyot stop.\n",
    "hex_circumdiameter = np.sqrt(2*np.pi/(3*np.sqrt(3)))*circ_outer_D # Circumdiameter of hexagonal lyot stop."
   ]
  },
  {
   "cell_type": "markdown",
   "metadata": {},
   "source": [
    "# Construct pupil, write to fits"
   ]
  },
  {
   "cell_type": "code",
   "execution_count": 13,
   "metadata": {},
   "outputs": [],
   "source": [
    "def make_baseline_pupils(path, normalized=False, overwrite=False):\n",
    "    '''Compute a full set of baseline pupils and save them to disk.\n",
    "\n",
    "    Parameters\n",
    "    ----------\n",
    "    path : Path-like\n",
    "        Where to save the computed baseline pupils.\n",
    "    \n",
    "    '''\n",
    "    circumscribed_diameter = 7.87  # meter\n",
    "    inscribed_diameter = 6.513  # meter\n",
    "\n",
    "    for num_pix in [N]:\n",
    "        for off_axis in [True, False]:\n",
    "            pupil = make_usort_pupil(num_pix, normalized, circumscribed_diameter, off_axis)\n",
    "\n",
    "            fname = f'TelAp_USORT_{\"offaxis\" if off_axis else \"onaxis\"}_ovsamp{oversamp:02d}_N{num_pix:04d}.fits'\n",
    "            fname = os.path.join(path, fname)\n",
    "            print(fname)\n",
    "\n",
    "            header = fits.Header()\n",
    "\n",
    "            # Include all pupil parameters in the header.\n",
    "            pup_func = make_usort_pupil_offaxis if off_axis else make_usort_pupil_onaxis\n",
    "            params = inspect.signature(pup_func).parameters\n",
    "            for key, param in params.items():\n",
    "                short_key = ''.join(k[0] for k in key.split('_')).upper()\n",
    "                header[short_key] = (param.default, key)\n",
    "\n",
    "            # Include WCS information in the header.\n",
    "            w = wcs.WCS(naxis=pupil.grid.ndim)\n",
    "            w.wcs.crpix = np.ones(pupil.grid.ndim)\n",
    "            w.wcs.cdelt = pupil.grid.delta\n",
    "            w.wcs.crval = pupil.grid.zero\n",
    "            w.wcs.ctype = ['X', 'Y']\n",
    "\n",
    "            header.update(w.to_header())\n",
    "\n",
    "            # Include telescope name in the header.\n",
    "            header['TELESCOP'] = ('USORT')\n",
    "            \n",
    "            # Include pupil diameter information in the header.\n",
    "            header['D_CIRC'] = (circumscribed_diameter, 'pupil circumscribed diameter [m]')\n",
    "            header['D_INSC'] = (inscribed_diameter, 'pupil inscribed diameter [m]')\n",
    "\n",
    "            # Include on- vs off-axis information.\n",
    "            header['OFFAXIS'] = (off_axis, 'whether the pupil is off-axis')\n",
    "            \n",
    "            # Include oversampling information in the header.\n",
    "            header['OVERSAMP'] = (oversamp, 'oversampling factor, # grey levels')\n",
    "            header['EDGE'] = (edge, 'black and white, or grey pixels')\n",
    "\n",
    "            fits.writeto(fname, pupil.shaped, header, overwrite=overwrite)"
   ]
  },
  {
   "cell_type": "code",
   "execution_count": 14,
   "metadata": {},
   "outputs": [
    {
     "name": "stdout",
     "output_type": "stream",
     "text": [
      "masks/USORT/TelAp_USORT_offaxis_ovsamp16_N0128.fits\n",
      "masks/USORT/TelAp_USORT_onaxis_ovsamp16_N0128.fits\n"
     ]
    }
   ],
   "source": [
    "filepath = 'masks/USORT/'\n",
    "\n",
    "make_baseline_pupils(filepath, overwrite=True)"
   ]
  },
  {
   "cell_type": "markdown",
   "metadata": {},
   "source": [
    "## Construct lyot stop(s), write to fits"
   ]
  },
  {
   "cell_type": "markdown",
   "metadata": {},
   "source": [
    "Using knowledge of inscribed circle diameter, we can calculate the pupil diameter prior to corner segment clipping that is needed for the Lyot stop generation."
   ]
  },
  {
   "cell_type": "code",
   "execution_count": 15,
   "metadata": {},
   "outputs": [],
   "source": [
    "def make_baseline_lyot_stops(path, normalized=False, overwrite=False):\n",
    "    '''Compute a full set of baseline Lyot stops and save them to disk.\n",
    "\n",
    "    Parameters\n",
    "    ----------\n",
    "    path : Path-like\n",
    "        Where to save the computed baseline pupils.\n",
    "    '''\n",
    "    circumscribed_diameter = 7.87  # meter\n",
    "    inscribed_diameter = 6.513  # meter\n",
    "\n",
    "    for num_pix in [N]:\n",
    "        for circular in [True, False]:\n",
    "            lyot_stop = make_usort_lyot_stop(num_pix, circumscribed_diameter, normalized, circular)\n",
    "\n",
    "            fname = f'LS_USORT_{\"circ\" if circular else \"hex\"}_ID{int(ls_id*1000):04d}_OD{int(ls_od*1000):04d}_ovsamp{oversamp}_N{num_pix:04d}.fits'\n",
    "            fname = os.path.join(path, fname)\n",
    "            print(fname)\n",
    "\n",
    "            header = fits.Header()\n",
    "\n",
    "            # Include all pupil parameters in the header.\n",
    "            ls_func = make_usort_lyot_stop_circ if circular else make_usort_lyot_stop_hex\n",
    "            params = inspect.signature(ls_func).parameters\n",
    "            for key, param in params.items():\n",
    "                short_key = ''.join(k[0] for k in key.split('_')).upper()\n",
    "                header[short_key] = (param.default, key)\n",
    "\n",
    "            # Include WCS information in the header.\n",
    "            w = wcs.WCS(naxis=lyot_stop.grid.ndim)\n",
    "            w.wcs.crpix = np.ones(lyot_stop.grid.ndim)\n",
    "            w.wcs.cdelt = lyot_stop.grid.delta\n",
    "            w.wcs.crval = lyot_stop.grid.zero\n",
    "            w.wcs.ctype = ['X', 'Y']\n",
    "\n",
    "            header.update(w.to_header())\n",
    "\n",
    "            # Include telescope name in the header.\n",
    "            header['TELESCOP'] = ('USORT')\n",
    "\n",
    "            # Include oversampling information in the header.\n",
    "            header['OVERSAMP'] = (oversamp, 'oversampling factor, # grey levels')\n",
    "            header['EDGE'] = (edge, 'black and white, or grey pixels')\n",
    "\n",
    "            # Include circular vs hexagonal information.\n",
    "            header['CIRCULAR'] = (circular, 'whether the Lyot stop is circular')\n",
    "            \n",
    "            if not circular:\n",
    "                # Include circumdiameter of the hexagonal lyot stop\n",
    "                header['HEXCIRCD'] = (hex_circumdiameter, 'hexagon circumdiameter')\n",
    "\n",
    "            fits.writeto(fname, lyot_stop.shaped, header, overwrite=overwrite)"
   ]
  },
  {
   "cell_type": "code",
   "execution_count": 16,
   "metadata": {
    "tags": []
   },
   "outputs": [
    {
     "name": "stdout",
     "output_type": "stream",
     "text": [
      "masks/USORT/LS_USORT_circ_ID0000_OD0990_ovsamp16_N0128.fits\n",
      "masks/USORT/LS_USORT_hex_ID0000_OD0990_ovsamp16_N0128.fits\n"
     ]
    }
   ],
   "source": [
    "filepath = 'masks/USORT/'\n",
    "\n",
    "make_baseline_lyot_stops(filepath, overwrite=True)"
   ]
  },
  {
   "cell_type": "markdown",
   "metadata": {},
   "source": [
    "# Plot resulting Aperture and Lyot stop"
   ]
  },
  {
   "cell_type": "code",
   "execution_count": 17,
   "metadata": {
    "tags": []
   },
   "outputs": [],
   "source": [
    "pupil_grid = hcipy.make_pupil_grid(N, pupil_diameter)\n",
    "pupil_onaxis = make_usort_pupil(N, pupil_diameter, offaxis=False)\n",
    "pupil_offaxis = make_usort_pupil(N, pupil_diameter)\n",
    "lyot_stop_circ = make_usort_lyot_stop(N, pupil_diameter)\n",
    "lyot_stop_hex = make_usort_lyot_stop(N, pupil_diameter, circular=False)"
   ]
  },
  {
   "cell_type": "code",
   "execution_count": 18,
   "metadata": {},
   "outputs": [
    {
     "data": {
      "text/plain": [
       "<matplotlib.image.NonUniformImage at 0x7f78c8236b80>"
      ]
     },
     "execution_count": 18,
     "metadata": {},
     "output_type": "execute_result"
    },
    {
     "data": {
      "image/png": "[encoded data removed]",
      "text/plain": [
       "<Figure size 1000x1000 with 4 Axes>"
      ]
     },
     "metadata": {},
     "output_type": "display_data"
    }
   ],
   "source": [
    "plt.figure(figsize=(10,10))\n",
    "plt.subplot(2,2,1)\n",
    "plt.title('On-axis Aperture')\n",
    "hcipy.imshow_field(pupil_onaxis, cmap='gray')\n",
    "#plt.axis('off')\n",
    "plt.subplot(2,2,2)\n",
    "plt.title('Off-axis Aperture')\n",
    "hcipy.imshow_field(pupil_offaxis, cmap='gray')\n",
    "#plt.axis('off')\n",
    "plt.subplot(2,2,3)\n",
    "plt.title('Hexagonal Lyot Stop')\n",
    "hcipy.imshow_field(lyot_stop_hex, cmap='gray')\n",
    "#plt.axis('off')\n",
    "plt.subplot(2,2,4)\n",
    "plt.title('Circular Lyot Stop')\n",
    "hcipy.imshow_field(lyot_stop_circ, cmap='gray')\n",
    "#plt.axis('off')"
   ]
  },
  {
   "cell_type": "code",
   "execution_count": 19,
   "metadata": {
    "tags": []
   },
   "outputs": [],
   "source": [
    "pupil_grid = hcipy.make_pupil_grid(N, pupil_diameter)\n",
    "pupil_onaxis = make_usort_pupil(N, pupil_diameter, offaxis=False)"
   ]
  },
  {
   "cell_type": "code",
   "execution_count": 20,
   "metadata": {
    "tags": []
   },
   "outputs": [
    {
     "data": {
      "text/plain": [
       "<matplotlib.image.NonUniformImage at 0x7f78d433c6a0>"
      ]
     },
     "execution_count": 20,
     "metadata": {},
     "output_type": "execute_result"
    },
    {
     "data": {
      "image/png": "[encoded data removed]",
      "text/plain": [
       "<Figure size 640x480 with 1 Axes>"
      ]
     },
     "metadata": {},
     "output_type": "display_data"
    }
   ],
   "source": [
    "plt.title('Off-axis Ap + hexagonal LS + circular LS')\n",
    "hcipy.imshow_field(lyot_stop_hex + lyot_stop_circ + pupil_offaxis, cmap='gray')"
   ]
  },
  {
   "cell_type": "markdown",
   "metadata": {},
   "source": [
    "[Back to Parameters](#params)\n",
    "\n",
    "[Top of page](#top)"
   ]
  }
 ],
 "metadata": {
  "kernelspec": {
   "display_name": "Python 3 (ipykernel)",
   "language": "python",
   "name": "python3"
  },
  "language_info": {
   "codemirror_mode": {
    "name": "ipython",
    "version": 3
   },
   "file_extension": ".py",
   "mimetype": "text/x-python",
   "name": "python",
   "nbconvert_exporter": "python",
   "pygments_lexer": "ipython3",
   "version": "3.8.18"
  }
 },
 "nbformat": 4,
 "nbformat_minor": 4
}
