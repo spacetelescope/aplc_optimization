{
 "cells": [
  {
   "cell_type": "markdown",
   "metadata": {},
   "source": [
    "# HiCAT Aperture Generation Notebook Based on Hardware Calibrated Measurements\n",
    "<a id=\"top\"></a>\n",
    "\n",
    "### Optical design\n",
    " - An entrance **[Pupil Mask](#pupil-mask)** *(P1)* with central obstruction and spiders to define an aperture shape.\n",
    " - A 37-segment **[Iris-AO](#iris-ao)** *(P2)* MEMs deformable mirror with 1.4 mm (vertex to vertex) hexagonal segments controllable in tip, tilt, and piston, conjugated to the entrance pupil to provide a pupil with complex geometry. \n",
    " - A diffraction suppression system based on the architecture of the apodized pupil Lyot coronagraph (APLC), which includes an **[apodizer](#apodizer)** *(P3)*, a reflective focal plane mask (FPM) and a **[Lyot stop](#lyot-stop)** *(P5)*. \n",
    " - A **[Boston deformable mirror](#dm)** *(P4)* for both wavefront control (correction of the re- sidual aberrations) and wavefront shaping (generation of a dark hole inside the PSF). This DM shows 33 actuators across the 9.9mm lateral dimension. \n",
    " \n",
    "<br>\n",
    " \n",
    " Go to [HiCAT apertures experiments](#exp)."
   ]
  },
  {
   "cell_type": "code",
   "execution_count": null,
   "metadata": {},
   "outputs": [],
   "source": [
    "#%matplotlib qt\n",
    "%matplotlib inline\n",
    "from hcipy import *\n",
    "import numpy as np\n",
    "import matplotlib.pyplot as plt\n",
    "from astropy.io import fits"
   ]
  },
  {
   "cell_type": "code",
   "execution_count": null,
   "metadata": {},
   "outputs": [],
   "source": [
    "# Observables from pupil images and actuator space calibration (calculation deatils still on paper to be completed)\n",
    "\n",
    "gamma_21_calibrated = 0.42528\n",
    "gamma_42_calibrated = 1.0435\n",
    "gamma_45_calibrated = 0.4542\n",
    "\n",
    "# Old by-design version\n",
    "gamma_21_design = 0.423\n",
    "gamma_31_design = 1.008\n",
    "gamma_41_design = 0.444\n",
    "gamma_51_design = 0.979\n",
    "\n",
    "# Plane-to-plane magnifications derived from observables: \n",
    "gamma_21 = gamma_21_calibrated\n",
    "gamma_31 = 0\n",
    "gamma_41 = gamma_42_calibrated * gamma_21_calibrated\n",
    "gamma_51 = gamma_41 / gamma_45_calibrated"
   ]
  },
  {
   "cell_type": "code",
   "execution_count": null,
   "metadata": {},
   "outputs": [],
   "source": [
    "# Checking that the as-built testbed is actually close to the design testbed:\n",
    "print(gamma_21/gamma_21_design)\n",
    "print(gamma_31/gamma_31_design)\n",
    "print(gamma_41/gamma_41_design)\n",
    "print(gamma_51/gamma_51_design)"
   ]
  },
  {
   "cell_type": "markdown",
   "metadata": {},
   "source": [
    "\n",
    "----------\n",
    "<a id=\"iris-ao\"></a>\n",
    "# P2 - Iris AO"
   ]
  },
  {
   "cell_type": "code",
   "execution_count": null,
   "metadata": {},
   "outputs": [],
   "source": [
    "# RS: doubled checked 5/22/19"
   ]
  },
  {
   "cell_type": "code",
   "execution_count": null,
   "metadata": {},
   "outputs": [],
   "source": [
    "p2_irisao_segment_size = 1.4e-3 # m (note: point to point)\n",
    "p2_irisao_segment_side_length = p2_irisao_segment_size / 2\n",
    "p2_irisao_segment_gap_size = 12e-6 # m\n",
    "#p2_irisao_segment_gap_size = 1.212e-3/10 # note: creating a DM where gaps = 1/10 segments, tested and working using DS9\n",
    "p2_irisao_inscribed_circle_size = 10 * p2_irisao_segment_side_length\n",
    "p2_irisao_flat_to_flat_size = 14 * np.sqrt(3) / 2 * p2_irisao_segment_side_length\n",
    "p2_irisao_circumscribed_circle_size = np.sqrt(p2_irisao_flat_to_flat_size**2 + p2_irisao_segment_side_length**2)\n",
    "\n",
    "print(p2_irisao_inscribed_circle_size)\n",
    "print(p2_irisao_circumscribed_circle_size)\n",
    "print(p2_irisao_flat_to_flat_size)"
   ]
  },
  {
   "cell_type": "code",
   "execution_count": null,
   "metadata": {},
   "outputs": [],
   "source": [
    "irisao_gap_hexagon_fraction = p2_irisao_segment_gap_size / p2_irisao_segment_side_length\n",
    "print(irisao_gap_hexagon_fraction, 0.012 / 0.7)"
   ]
  },
  {
   "cell_type": "code",
   "execution_count": null,
   "metadata": {},
   "outputs": [],
   "source": [
    "p2_irisao_distance_between_segments = p2_irisao_segment_side_length * np.sqrt(3)\n",
    "#corrected bug, sqrt(3) replaced by 2/sqrt(3)\n",
    "# tested with this value for gap size==1/10 segment size; p2_irisao_segment_gap_size = 1.212e-3/10 (measurable in DS9)\n",
    "p2_irisao_segment_circumdiameter = (2 * p2_irisao_segment_side_length) - (2/np.sqrt(3)) * p2_irisao_segment_gap_size\n",
    "print(p2_irisao_segment_circumdiameter)\n",
    "\n",
    "def p2_irisao():\n",
    "    segment = hexagonal_aperture(p2_irisao_segment_circumdiameter, np.pi/2)\n",
    "    \n",
    "    segment_positions = make_hexagonal_grid(p2_irisao_distance_between_segments, 3, False)\n",
    "    \n",
    "    aperture = make_segmented_aperture(segment, segment_positions)\n",
    "    return aperture"
   ]
  },
  {
   "cell_type": "markdown",
   "metadata": {},
   "source": [
    "# P2 - IRIS AO larger gaps for reticulated LS"
   ]
  },
  {
   "cell_type": "markdown",
   "metadata": {},
   "source": [
    "same code as above but with 5x oversampling of the gaps"
   ]
  },
  {
   "cell_type": "code",
   "execution_count": null,
   "metadata": {},
   "outputs": [],
   "source": [
    "oversize_gaps = 5\n",
    "p2_irisao_segment_gap_size_larger = oversize_gaps * 12e-6 # m\n",
    "\n",
    "p2_irisao_segment_circumdiameter_larger_gaps = (2 * p2_irisao_segment_side_length) - (2/np.sqrt(3)) * p2_irisao_segment_gap_size_larger\n",
    "\n",
    "\n",
    "def p2_irisao_larger_gaps():\n",
    "    segment_larger_gaps = hexagonal_aperture(p2_irisao_segment_circumdiameter_larger_gaps, np.pi/2)\n",
    "    segment_positions = make_hexagonal_grid(p2_irisao_distance_between_segments, 3, False)    \n",
    "    aperture = make_segmented_aperture(segment_larger_gaps, segment_positions)\n",
    "    return aperture"
   ]
  },
  {
   "cell_type": "markdown",
   "metadata": {},
   "source": [
    "[Top of page](#top)\n",
    "\n",
    "------------\n",
    "<a id=\"pupil-mask\"></a>\n",
    "# P1 - Pupil Mask and Apodizer "
   ]
  },
  {
   "cell_type": "code",
   "execution_count": null,
   "metadata": {},
   "outputs": [],
   "source": [
    "central_obst = False"
   ]
  },
  {
   "cell_type": "code",
   "execution_count": null,
   "metadata": {},
   "outputs": [],
   "source": [
    "p1_pupil_mask_size = 19.50e-3 # m  Note: Reducing on purpose another 50 microns for ease of alignment compared to the 19.55 Lenox laser mask\n",
    "p2_pupil_mask_size = p1_pupil_mask_size * gamma_21\n",
    "print(p2_pupil_mask_size)\n",
    "\n",
    "print('Undersizing fraction of pupil wrt IRIS-AO: ',p2_pupil_mask_size / p2_irisao_circumscribed_circle_size)\n"
   ]
  },
  {
   "cell_type": "code",
   "execution_count": null,
   "metadata": {},
   "outputs": [],
   "source": [
    "# Central segment\n",
    "p1_pupil_mask_central_segment_size = 3.600e-3 # m\n",
    "p2_pupil_mask_central_segment_size = p1_pupil_mask_central_segment_size * gamma_21\n",
    "pupil_mask_central_segment_oversize_factor = p2_pupil_mask_central_segment_size / p2_irisao_segment_size\n",
    "print(pupil_mask_central_segment_oversize_factor)"
   ]
  },
  {
   "cell_type": "code",
   "execution_count": null,
   "metadata": {},
   "outputs": [],
   "source": [
    "# Spiders\n",
    "p1_pupil_mask_spider_thickness = 0.200e-3 # m"
   ]
  },
  {
   "cell_type": "code",
   "execution_count": null,
   "metadata": {},
   "outputs": [],
   "source": [
    "pupil_mask_undersize_contour = p2_pupil_mask_size / p2_irisao_circumscribed_circle_size\n",
    "print(pupil_mask_undersize_contour)"
   ]
  },
  {
   "cell_type": "code",
   "execution_count": null,
   "metadata": {},
   "outputs": [],
   "source": [
    "# Output\n",
    "print('Pupil mask side-to-side contour length in P1: %d um' % (p1_pupil_mask_size * 1e6))\n",
    "print('Pupil mask central segment side length in P1: %d um' % (p1_pupil_mask_central_segment_size * 1e6))\n",
    "print('Pupil mask spider thickness in P1: %d um' % (p1_pupil_mask_spider_thickness * 1e6))"
   ]
  },
  {
   "cell_type": "code",
   "execution_count": null,
   "metadata": {},
   "outputs": [],
   "source": [
    "def p1_pupil_mask(central_obst=False):\n",
    "    segment = hexagonal_aperture(p1_pupil_mask_size / 7 / np.sqrt(3) * 2, np.pi / 2)\n",
    "    distance_between_segments = p1_pupil_mask_size / 7\n",
    "    segment_positions = make_hexagonal_grid(distance_between_segments, 3)\n",
    "    contour = make_segmented_aperture(segment, segment_positions)\n",
    "    \n",
    "    if central_obst:\n",
    "        central_segment = hexagonal_aperture(p1_pupil_mask_central_segment_size, np.pi / 2)\n",
    "    \n",
    "        spider1 = make_spider_infinite([0,0], 60, p1_pupil_mask_spider_thickness)\n",
    "        spider2 = make_spider_infinite([0,0], 120, p1_pupil_mask_spider_thickness)\n",
    "        spider3 = make_spider_infinite([0,0], -60, p1_pupil_mask_spider_thickness)\n",
    "        spider4 = make_spider_infinite([0,0], -120, p1_pupil_mask_spider_thickness)\n",
    "    \n",
    "        def aper(grid):\n",
    "            return (contour(grid) - central_segment(grid)) * spider1(grid) * spider2(grid) * spider3(grid) * spider4(grid)\n",
    "    def aper(grid):\n",
    "            return contour(grid)\n",
    "    return aper"
   ]
  },
  {
   "cell_type": "markdown",
   "metadata": {},
   "source": [
    "[Top of page](#top)\n",
    "\n",
    "------------\n",
    "<a id=\"dm\"></a>\n",
    "\n",
    "# P4 - Boston DM"
   ]
  },
  {
   "cell_type": "code",
   "execution_count": null,
   "metadata": {},
   "outputs": [],
   "source": [
    "p4_boston_dm_size = 9.9e-3 # m\n",
    "num_actuators = 34\n",
    "actuator_pitch = p4_boston_dm_size / (num_actuators-1)"
   ]
  },
  {
   "cell_type": "code",
   "execution_count": null,
   "metadata": {},
   "outputs": [],
   "source": [
    "p4_apodizer_size = p1_pupil_mask_size * gamma_41\n",
    "p4_irisao_circumscribed_circle_size = p2_irisao_circumscribed_circle_size * gamma_41 / gamma_21\n",
    "p4_irisao_flat_to_flat_size = p2_irisao_flat_to_flat_size * gamma_41 / gamma_21"
   ]
  },
  {
   "cell_type": "code",
   "execution_count": null,
   "metadata": {},
   "outputs": [],
   "source": [
    "boston_dm_apodizer_undersize_ratio = p4_apodizer_size / p4_boston_dm_size  #shortcutting circumscribed for flat-flat\n",
    "boston_dm_irisao_undersize_ratio_y =  p4_irisao_flat_to_flat_size / p4_boston_dm_size\n",
    "\n",
    "print(boston_dm_apodizer_undersize_ratio)\n",
    "print(boston_dm_irisao_undersize_ratio_y)"
   ]
  },
  {
   "cell_type": "code",
   "execution_count": null,
   "metadata": {},
   "outputs": [],
   "source": [
    "num_actuators_used_apodizer = boston_dm_apodizer_undersize_ratio * (num_actuators-1)\n",
    "num_actuators_used_irisao = boston_dm_irisao_undersize_ratio_y * (num_actuators-1)"
   ]
  },
  {
   "cell_type": "code",
   "execution_count": null,
   "metadata": {},
   "outputs": [],
   "source": [
    "print('Actuator pitch: %d um' % (actuator_pitch * 1e6))\n",
    "print('Number of used actuator spaces inside apodizer: %0.2f' % (num_actuators_used_apodizer))\n",
    "print('Number of used actuator spaces inside iris-ao: %0.2f' % (num_actuators_used_irisao))\n",
    "print('Compare with the actuator spaces in the  ')"
   ]
  },
  {
   "cell_type": "code",
   "execution_count": null,
   "metadata": {},
   "outputs": [],
   "source": [
    "def p4_boston_dm():\n",
    "    return circular_aperture(p4_boston_dm_size)"
   ]
  },
  {
   "cell_type": "markdown",
   "metadata": {},
   "source": [
    "[Top of page](#top)\n",
    "\n",
    "----------\n",
    "<a id=\"lyot-stop\"></a>\n",
    "\n",
    "# P5 - Lyot stop"
   ]
  },
  {
   "cell_type": "code",
   "execution_count": null,
   "metadata": {},
   "outputs": [],
   "source": [
    "LS_central_obst = False"
   ]
  },
  {
   "cell_type": "code",
   "execution_count": null,
   "metadata": {},
   "outputs": [],
   "source": [
    "p5_lyot_stop_size = 15.0e-3 # m\n",
    "p5_irisao_inscribed_circle_size = p2_irisao_inscribed_circle_size * gamma_51 / gamma_21\n",
    "lyot_stop_mask_undersize_contour_wrt_inscribed_circle = p5_lyot_stop_size / p5_irisao_inscribed_circle_size\n",
    "\n",
    "p5_irisao_flat_to_flat_size = p2_irisao_flat_to_flat_size * gamma_51 / gamma_21\n",
    "p5_irisao_circumscribed_circle_size = p2_irisao_circumscribed_circle_size * gamma_51 / gamma_21\n",
    "\n",
    "print('LS size:', p5_lyot_stop_size*1000, 'mm')\n",
    "print('iris-ao inscribed circle size at LS plane:', p5_irisao_inscribed_circle_size*1000, 'mm')\n",
    "print('lateral LS alignment margin wrt to inscribed circle on both sides:', 0.5*(p5_irisao_inscribed_circle_size-p5_lyot_stop_size)*1000, 'mm')"
   ]
  },
  {
   "cell_type": "code",
   "execution_count": null,
   "metadata": {},
   "outputs": [],
   "source": [
    "def p5_lyot_stop():\n",
    "    outer_diameter = circular_aperture(p5_lyot_stop_size)\n",
    "    \n",
    "    \n",
    "    if LS_central_obst:\n",
    "        # Central segment\n",
    "        p5_lyot_stop_mask_central_segment_size = 6.800e-3 # m\n",
    "        p5_apodizer_mask_central_segment_size = p3_apodizer_mask_central_segment_size * gamma_51 / gamma_31\n",
    "        print(p5_apodizer_mask_central_segment_size)\n",
    "        p5_irisao_segment_size = p2_irisao_segment_size * gamma_51 / gamma_21\n",
    "        lyot_stop_mask_central_segment_oversize_factor_wrt_apodizer_mask = p5_lyot_stop_mask_central_segment_size / p5_apodizer_mask_central_segment_size\n",
    "        print(lyot_stop_mask_central_segment_oversize_factor_wrt_apodizer_mask)\n",
    "\n",
    "        # Spiders\n",
    "        p5_lyot_stop_mask_spiders_thickness = 0.700e-3 # m\n",
    "        lyot_stop_mask_spiders_thickness_ratio = p5_lyot_stop_mask_spiders_thickness / p5_irisao_circumscribed_circle_size\n",
    "        print(lyot_stop_mask_spiders_thickness_ratio)\n",
    "        central_obscuration = circular_aperture(p5_lyot_stop_mask_central_segment_size)\n",
    "\n",
    "        spider1 = make_spider_infinite([0,0], 60, p5_lyot_stop_mask_spiders_thickness)\n",
    "        spider2 = make_spider_infinite([0,0], 120, p5_lyot_stop_mask_spiders_thickness)\n",
    "        spider3 = make_spider_infinite([0,0], -60, p5_lyot_stop_mask_spiders_thickness)\n",
    "        spider4 = make_spider_infinite([0,0], -120, p5_lyot_stop_mask_spiders_thickness)\n",
    "\n",
    "        def aper(grid):\n",
    "            return (outer_diameter(grid) - central_obscuration(grid)) * spider1(grid) * spider2(grid) * spider3(grid) * spider4(grid)\n",
    "    def aper(grid):\n",
    "            return outer_diameter(grid)\n",
    "    return aper"
   ]
  },
  {
   "cell_type": "markdown",
   "metadata": {},
   "source": [
    "## Pixel calculation for the apodzier and DM sizes and pixels"
   ]
  },
  {
   "cell_type": "code",
   "execution_count": null,
   "metadata": {},
   "outputs": [],
   "source": [
    "print(p4_apodizer_size)\n",
    "print(p4_boston_dm_size)\n",
    "print(p4_apodizer_size/p4_boston_dm_size)"
   ]
  },
  {
   "cell_type": "markdown",
   "metadata": {},
   "source": [
    "we can keep the 486 value and the number of pixels in the DM is slighlty different (from 554.94) but not a problme because still plenty of room for padding without having to change the size of the FFTs.  Since we have used 486 pix for the apodizer in the past, we can keep that."
   ]
  },
  {
   "cell_type": "code",
   "execution_count": null,
   "metadata": {},
   "outputs": [],
   "source": [
    "486 / (p4_apodizer_size/p4_boston_dm_size)"
   ]
  },
  {
   "cell_type": "markdown",
   "metadata": {},
   "source": [
    "pixel size is very close to 10 microns:"
   ]
  },
  {
   "cell_type": "code",
   "execution_count": null,
   "metadata": {},
   "outputs": [],
   "source": [
    "19.50 / (486*4)"
   ]
  },
  {
   "cell_type": "markdown",
   "metadata": {},
   "source": [
    "A possibly better number is 488, which gives us more room for multi-scale optimization starting at smaller sizes\n",
    "This translates to 1952 pixles with 10 microns pixels, and still provides 30 microns of additional alignment tolerancing compared to the current mask we have. \n"
   ]
  },
  {
   "cell_type": "markdown",
   "metadata": {},
   "source": [
    "[Top of page](#top)\n",
    "\n",
    "------------------------\n",
    "# Plots"
   ]
  },
  {
   "cell_type": "code",
   "execution_count": null,
   "metadata": {},
   "outputs": [],
   "source": [
    "# Here the reference is plane P2 - but the largest size of the array is for the Boston DM (largest optic)\n",
    "nPixelBostonDM = 556 \n",
    "g = make_pupil_grid(nPixelBostonDM, p4_boston_dm_size / gamma_41 * gamma_21)\n",
    "supersampling = 1\n",
    "\n",
    "irisao = evaluate_supersampled(p2_irisao(), g, supersampling)\n",
    "pupil_mask = evaluate_supersampled(p1_pupil_mask(), g.scaled(1 / gamma_21), supersampling)\n",
    "#apodizer = evaluate_supersampled(p3_apodizer(), g.scaled(gamma_31 / gamma_21), supersampling)\n",
    "boston_dm = evaluate_supersampled(p4_boston_dm(), g.scaled(gamma_41 / gamma_21), supersampling)\n",
    "lyot_stop = evaluate_supersampled(p5_lyot_stop(), g.scaled(gamma_51 / gamma_21), supersampling)\n",
    "\n",
    "# debugging purposes: \n",
    "#write_fits(irisao, 'masks/irisao.fits')\n",
    "#write_fits(apodizer, 'masks/apodizer.fits')"
   ]
  },
  {
   "cell_type": "code",
   "execution_count": null,
   "metadata": {
    "scrolled": false
   },
   "outputs": [],
   "source": [
    "masks = [pupil_mask, irisao, boston_dm, lyot_stop]\n",
    "labels = ['Pupil Mask', 'IrisAO', 'BostonDM', 'LyotStop']\n",
    "\n",
    "for mask, label in zip(masks, labels):\n",
    "    plt.figure(figsize = (5,5))\n",
    "    plt.title(label)\n",
    "    imshow_field(mask, cmap='gray')\n",
    "    plt.show()"
   ]
  },
  {
   "cell_type": "code",
   "execution_count": null,
   "metadata": {},
   "outputs": [],
   "source": [
    "# for i, (mask_a, label_a) in enumerate(zip(masks, labels)):\n",
    "#    for j, (mask_b, label_b) in enumerate(zip(masks, labels)):\n",
    "#        if j <= i:\n",
    "#            continue\n",
    "       \n",
    "#        plt.figure()\n",
    "#        plt.title(label_a + ' - ' + label_b)\n",
    "#        imshow_field(mask_a - mask_b, cmap='gray', vmin=-1, vmax=1)\n",
    "#        plt.show()"
   ]
  },
  {
   "cell_type": "code",
   "execution_count": null,
   "metadata": {},
   "outputs": [],
   "source": [
    "nPixApodizer = 4*488;\n",
    "magnification_tolerance = 0.000 # not investigated yet, in case we want to add robustness to magnification later\n",
    "nlyotstops = 1 # for the magnification robustness \n",
    "gray_apod = False # because the apodizer defines the pupil (and oversizes all the structures) we don't want it gray\n",
    "for gray in [False]:\n",
    "    for num_pix in [nPixApodizer]:\n",
    "        grid = make_uniform_grid(num_pix, [p1_pupil_mask_size, p1_pupil_mask_size])\n",
    "\n",
    "        own_apod = evaluate_supersampled(p1_pupil_mask(), grid, 4 if gray_apod else 1)\n",
    "        write_fits(own_apod, '../../masks/HiCAT/hicat_apodizer_mask_%d_%s.fits' % (num_pix, 'gy' if gray_apod else 'bw'))\n",
    "\n",
    "        for mag_i, mag in enumerate(np.linspace(-magnification_tolerance/2, magnification_tolerance/2, nlyotstops)+1):\n",
    "            own_lyot = evaluate_supersampled(p5_lyot_stop(), grid.scaled(mag * gamma_51), 4 if gray else 1)\n",
    "            write_fits(own_lyot, '../../masks/HiCAT/hicat_lyot_mask_%d_%s_%d.fits' % (num_pix, 'gy' if gray else 'bw', mag_i))\n",
    "        \n",
    "        reticulated_LS_gaps = evaluate_supersampled(p2_irisao_larger_gaps(), grid.scaled(mag * gamma_51*gamma_21), 4 if gray else 1)\n",
    "        reticulated_LS = reticulated_LS_gaps * own_lyot\n",
    "        \n",
    "        write_fits(reticulated_LS, '../../masks/HiCAT/hicat_reticulated_LS_%d_%s.fits' % (num_pix, 'gy' if gray_apod else 'bw'))\n",
    "\n",
    "\n",
    "\n"
   ]
  },
  {
   "cell_type": "code",
   "execution_count": null,
   "metadata": {},
   "outputs": [],
   "source": [
    "plt.figure(figsize = (10,10))\n",
    "imshow_field(own_apod+ 0.5*own_lyot, cmap='gray')\n",
    "plt.show()"
   ]
  },
  {
   "cell_type": "markdown",
   "metadata": {},
   "source": [
    "------------------------\n",
    "[Top of page](#top)"
   ]
  },
  {
   "cell_type": "code",
   "execution_count": null,
   "metadata": {},
   "outputs": [],
   "source": [
    "\n",
    "\n",
    "\n",
    "plt.figure(figsize = (10,10))\n",
    "imshow_field(reticulated_LS_gaps+ 0.3 * own_apod+ 0.5 * own_lyot * reticulated_LS_gaps, cmap='gray')\n",
    "plt.show()"
   ]
  },
  {
   "cell_type": "code",
   "execution_count": null,
   "metadata": {},
   "outputs": [],
   "source": []
  }
 ],
 "metadata": {
  "kernelspec": {
   "display_name": "Python 3",
   "language": "python",
   "name": "python3"
  },
  "language_info": {
   "codemirror_mode": {
    "name": "ipython",
    "version": 3
   },
   "file_extension": ".py",
   "mimetype": "text/x-python",
   "name": "python",
   "nbconvert_exporter": "python",
   "pygments_lexer": "ipython3",
   "version": "3.8.10"
  }
 },
 "nbformat": 4,
 "nbformat_minor": 2
}
